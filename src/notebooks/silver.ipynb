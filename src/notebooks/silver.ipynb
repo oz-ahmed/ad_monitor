{
 "cells": [
  {
   "cell_type": "code",
   "execution_count": 1,
   "id": "587a8d71",
   "metadata": {},
   "outputs": [
    {
     "ename": "ModuleNotFoundError",
     "evalue": "No module named 'dlt'",
     "output_type": "error",
     "traceback": [
      "\u001b[31m---------------------------------------------------------------------------\u001b[39m",
      "\u001b[31mModuleNotFoundError\u001b[39m                       Traceback (most recent call last)",
      "\u001b[36mCell\u001b[39m\u001b[36m \u001b[39m\u001b[32mIn[1]\u001b[39m\u001b[32m, line 1\u001b[39m\n\u001b[32m----> \u001b[39m\u001b[32m1\u001b[39m \u001b[38;5;28;01mimport\u001b[39;00m\u001b[38;5;250m \u001b[39m\u001b[34;01mdlt\u001b[39;00m\n\u001b[32m      2\u001b[39m \u001b[38;5;28;01mfrom\u001b[39;00m\u001b[38;5;250m \u001b[39m\u001b[34;01mpyspark\u001b[39;00m\u001b[34;01m.\u001b[39;00m\u001b[34;01msql\u001b[39;00m\u001b[34;01m.\u001b[39;00m\u001b[34;01mfunctions\u001b[39;00m\u001b[38;5;250m \u001b[39m\u001b[38;5;28;01mimport\u001b[39;00m col, when, current_timestamp, date_format, to_date, \u001b[38;5;28msum\u001b[39m \u001b[38;5;28;01mas\u001b[39;00m _sum, \u001b[38;5;28mmax\u001b[39m \u001b[38;5;28;01mas\u001b[39;00m _max, window\n",
      "\u001b[31mModuleNotFoundError\u001b[39m: No module named 'dlt'"
     ]
    }
   ],
   "source": [
    "import dlt\n",
    "from pyspark.sql.functions import col, when, current_timestamp, date_format, to_date, sum as _sum, max as _max, window"
   ]
  },
  {
   "cell_type": "code",
   "execution_count": null,
   "id": "a874b89d",
   "metadata": {},
   "outputs": [],
   "source": [
    "# Intermediate view for bronze budget changes\n",
    "@dlt.view(\n",
    "    name=\"bronze_budget_changes_clean\",\n",
    "    comment=\"Intermediate view of bronze budget changes for SCD processing.\"\n",
    ")\n",
    "def bronze_budget_changes_clean():\n",
    "    return spark.readStream.table(\"ad_monitor.bronze.bronze_budget_changes\")"
   ]
  },
  {
   "cell_type": "code",
   "execution_count": null,
   "id": "80c08a7b",
   "metadata": {},
   "outputs": [],
   "source": [
    "# Current advertiser budgets (SCD Type 1 for current state)\n",
    "dlt.create_streaming_table(\n",
    "  name=\"silver_advertiser_budgets_current\",\n",
    "  comment=\"Current daily budget for each advertiser (latest version only).\"\n",
    ")\n",
    "\n",
    "dlt.apply_changes(\n",
    "    target=\"silver_advertiser_budgets_current\",\n",
    "    source=\"bronze_budget_changes_clean\",\n",
    "    keys=[\"advertiser_id\"],\n",
    "    sequence_by=\"moment\",\n",
    "    stored_as_scd_type=1\n",
    ")"
   ]
  },
  {
   "cell_type": "code",
   "execution_count": null,
   "id": "86efcbda",
   "metadata": {},
   "outputs": [],
   "source": [
    "# Historical budget changes (SCD Type 2 for complete history)\n",
    "@dlt.table(\n",
    "    name=\"silver_advertiser_budgets_history\",\n",
    "    comment=\"Complete history of all budget changes for audit and analysis.\"\n",
    ")\n",
    "def silver_advertiser_budgets_history():\n",
    "    return (\n",
    "        spark.readStream.table(\"ad_monitor.bronze.bronze_budget_changes\")\n",
    "        .withColumn(\"moment\", col(\"moment\"))\n",
    "        .withColumn(\"created_at\", current_timestamp())\n",
    "    )\n"
   ]
  },
  {
   "cell_type": "code",
   "execution_count": null,
   "id": "037a5fad",
   "metadata": {},
   "outputs": [],
   "source": [
    "# Enhanced paid events with net spend calculation\n",
    "@dlt.table(\n",
    "    name=\"silver_paid_events_enhanced\",\n",
    "    comment=\"Cleaned paid events with gross and net spend calculations.\"\n",
    ")\n",
    "def silver_paid_events_enhanced():\n",
    "    \"\"\"\n",
    "    Enhanced paid events that distinguish between gross and net spend.\n",
    "    Assumes gross spend includes all charges, net spend is for invoicing.\n",
    "    \"\"\"\n",
    "    return (\n",
    "        spark.readStream.table(\"ad_monitor.bronze.bronze_paid_events\")\n",
    "        .filter(col(\"amount\") > 0)\n",
    "        .withColumn(\"gross_spend\", col(\"amount\"))\n",
    "        .withColumn(\"net_spend\", col(\"amount\"))\n",
    "        .withColumn(\"moment_ts\", col(\"moment\").cast(\"timestamp\"))  # Create proper timestamp\n",
    "        .withColumn(\"processed_at\", current_timestamp())\n",
    "    )"
   ]
  },
  {
   "cell_type": "code",
   "execution_count": null,
   "id": "c754a69f",
   "metadata": {},
   "outputs": [],
   "source": [
    "# Real-time spend aggregation by hour for faster monitoring\n",
    "@dlt.table(\n",
    "    name=\"silver_hourly_spend_summary\",\n",
    "    comment=\"Hourly spend aggregation for real-time monitoring.\"\n",
    ")\n",
    "def silver_hourly_spend_summary():\n",
    "    return (\n",
    "        dlt.read_stream(\"silver_paid_events_enhanced\")\n",
    "        .groupBy(\n",
    "            col(\"advertiser_id\"),\n",
    "            col(\"moment\")\n",
    "        )\n",
    "        .agg(\n",
    "            _sum(\"gross_spend\").alias(\"hourly_gross_spend\"),\n",
    "            _sum(\"net_spend\").alias(\"hourly_net_spend\"),\n",
    "            _max(\"moment\").alias(\"last_event_time\")\n",
    "        )\n",
    "        .select(\n",
    "            col(\"advertiser_id\"),\n",
    "            col(\"moment\"),\n",
    "            col(\"hourly_gross_spend\"),\n",
    "            col(\"hourly_net_spend\"),\n",
    "            col(\"last_event_time\"),\n",
    "            current_timestamp().alias(\"calculated_at\")\n",
    "        )\n",
    "    )"
   ]
  }
 ],
 "metadata": {
  "kernelspec": {
   "display_name": "ad-monitor",
   "language": "python",
   "name": "python3"
  },
  "language_info": {
   "codemirror_mode": {
    "name": "ipython",
    "version": 3
   },
   "file_extension": ".py",
   "mimetype": "text/x-python",
   "name": "python",
   "nbconvert_exporter": "python",
   "pygments_lexer": "ipython3",
   "version": "3.12.1"
  }
 },
 "nbformat": 4,
 "nbformat_minor": 5
}
