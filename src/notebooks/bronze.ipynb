{
 "cells": [
  {
   "cell_type": "code",
   "execution_count": null,
   "id": "a38f84f9",
   "metadata": {
    "vscode": {
     "languageId": "plaintext"
    }
   },
   "outputs": [],
   "source": [
    "import dlt\n",
    "from pyspark.sql.functions import expr, col, window, current_timestamp, sum as _sum\n",
    "from pyspark.sql.window import Window\n",
    "\n",
    "# --- Configuration ---\n",
    "CATALOG_NAME = \"ad_monitor\"\n",
    "SCHEMA_NAME = \"landing\"\n",
    "\n",
    "# Create catalog using default storage\n",
    "\n",
    "# print(f\"Creating catalog: {CATALOG_NAME}\")\n",
    "#spark.sql(f\"\"\"\n",
    "# CREATE CATALOG IF NOT EXISTS {CATALOG_NAME} \n",
    "# COMMENT 'Catalog for ad monitoring data'\n",
    "#\"\"\")\n",
    "\n",
    "#print(f\"✅ Catalog '{CATALOG_NAME}' created or already exists\")\n",
    "\n",
    "paid_events_volume_path = f\"/Volumes/{CATALOG_NAME}/{SCHEMA_NAME}/paid_events_stream\"\n",
    "budget_changes_volume_path = f\"/Volumes/{CATALOG_NAME}/{SCHEMA_NAME}/budget_changes_stream\""
   ]
  },
  {
   "cell_type": "code",
   "execution_count": null,
   "id": "30130963",
   "metadata": {
    "vscode": {
     "languageId": "plaintext"
    }
   },
   "outputs": [],
   "source": [
    "\n",
    "@dlt.table(\n",
    "    name=\"bronze_paid_events\",\n",
    "    comment=\"Raw, unprocessed paid click events from the streaming source.\"\n",
    ")\n",
    "def bronze_paid_events():\n",
    "    \"\"\"\n",
    "    Ingests raw paid event data from the volume as a streaming source.\n",
    "    Adds metadata for tracking purposes.\n",
    "    \"\"\"\n",
    "    return (\n",
    "        spark.readStream.format(\"delta\")\n",
    "            .load(paid_events_volume_path)\n",
    "            .withColumn(\"ingestion_timestamp\", expr(\"current_timestamp()\"))\n",
    "    )\n",
    "\n",
    "@dlt.table(\n",
    "    name=\"bronze_budget_changes\",\n",
    "    comment=\"Raw, unprocessed budget change events from the streaming source.\"\n",
    ")\n",
    "def bronze_budget_changes():\n",
    "    \"\"\"\n",
    "    Ingests raw budget change data from the volume as a streaming source.\n",
    "    Adds metadata for tracking purposes.\n",
    "    \"\"\"\n",
    "    return (\n",
    "        spark.readStream.format(\"delta\")\n",
    "            .load(budget_changes_volume_path)\n",
    "            .withColumn(\"ingestion_timestamp\", expr(\"current_timestamp()\"))\n",
    "    )"
   ]
  }
 ],
 "metadata": {
  "language_info": {
   "name": "python"
  }
 },
 "nbformat": 4,
 "nbformat_minor": 5
}
