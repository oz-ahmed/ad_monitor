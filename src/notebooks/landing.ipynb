{
 "cells": [
  {
   "cell_type": "code",
   "execution_count": null,
   "id": "40db8167",
   "metadata": {
    "vscode": {
     "languageId": "plaintext"
    }
   },
   "outputs": [],
   "source": [
    "import random\n",
    "from datetime import datetime, timezone, timedelta\n",
    "from pyspark.sql import SparkSession"
   ]
  },
  {
   "cell_type": "code",
   "execution_count": null,
   "id": "c25f99f9",
   "metadata": {
    "vscode": {
     "languageId": "plaintext"
    }
   },
   "outputs": [],
   "source": [
    "def generate_data(spark, stream_type, advertiser_count):\n",
    "    \"\"\"Generates a single batch of sample data.\"\"\"\n",
    "    # now = datetime.now(timezone.utc)\n",
    "    data = []\n",
    "    \n",
    "    for _ in range(advertiser_count * 2): # Generate 2 events per advertiser\n",
    "        advertiser_id = random.randint(1, advertiser_count)\n",
    "        moment = datetime.now().strftime(\"%H:%M\")\n",
    "        \n",
    "        if stream_type == 'paid_event':\n",
    "            record = {\n",
    "                \"advertiser_id\": advertiser_id,\n",
    "                \"moment\": moment,\n",
    "                \"amount\": round(random.uniform(1.00, 1.40), 2)\n",
    "            }\n",
    "        elif stream_type == 'budget_change':\n",
    "            record = {\n",
    "                \"advertiser_id\": advertiser_id,\n",
    "                \"moment\": moment,\n",
    "                \"new_budget_value\": round(random.uniform(10.00, 30.00), 2)\n",
    "            }\n",
    "        data.append(record)\n",
    "        \n",
    "    return spark.createDataFrame(data)"
   ]
  },
  {
   "cell_type": "code",
   "execution_count": null,
   "id": "93a133f3",
   "metadata": {
    "vscode": {
     "languageId": "plaintext"
    }
   },
   "outputs": [],
   "source": [
    "\n",
    "catalog_name = \"ad_monitor\"\n",
    "schema_name = \"landing\"\n",
    "    \n",
    "paid_events_volume_path = f\"/Volumes/{catalog_name}/{schema_name}/paid_events_stream\"\n",
    "budget_changes_volume_path = f\"/Volumes/{catalog_name}/{schema_name}/budget_changes_stream\"\n",
    "\n",
    "print(f\"Creating volume at {paid_events_volume_path} if it does not exist...\")\n",
    "spark.sql(f\"CREATE VOLUME IF NOT EXISTS {catalog_name}.{schema_name}.paid_events_stream\")\n",
    "    \n",
    "print(f\"Creating volume at {budget_changes_volume_path} if it does not exist...\")\n",
    "spark.sql(f\"CREATE VOLUME IF NOT EXISTS {catalog_name}.{schema_name}.budget_changes_stream\")"
   ]
  },
  {
   "cell_type": "code",
   "execution_count": null,
   "id": "64163529",
   "metadata": {
    "vscode": {
     "languageId": "plaintext"
    }
   },
   "outputs": [],
   "source": [
    "print(\"Generating sample paid events data...\")\n",
    "paid_events_df = generate_data(spark, 'paid_event', advertiser_count=10)\n",
    "paid_events_df.write.format(\"delta\").mode(\"append\").save(paid_events_volume_path)\n",
    "print(f\"Successfully wrote {paid_events_df.count()} records to paid_events_stream.\")\n",
    "\n",
    "print(\"Generating sample budget changes data...\")\n",
    "budget_changes_df = generate_data(spark, 'budget_change', advertiser_count=10)\n",
    "budget_changes_df.write.format(\"delta\").mode(\"append\").save(budget_changes_volume_path)\n",
    "print(f\"Successfully wrote {budget_changes_df.count()} records to budget_changes_stream.\")\n",
    "    \n",
    "print(\"✅ Data generation complete.\")\n"
   ]
  }
 ],
 "metadata": {
  "language_info": {
   "name": "python"
  }
 },
 "nbformat": 4,
 "nbformat_minor": 5
}
